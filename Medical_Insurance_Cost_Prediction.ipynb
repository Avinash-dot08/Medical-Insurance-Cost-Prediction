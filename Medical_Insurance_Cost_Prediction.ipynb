{
  "nbformat": 4,
  "nbformat_minor": 0,
  "metadata": {
    "colab": {
      "provenance": []
    },
    "kernelspec": {
      "name": "python3",
      "display_name": "Python 3"
    },
    "language_info": {
      "name": "python"
    }
  },
  "cells": [
    {
      "cell_type": "code",
      "execution_count": 169,
      "metadata": {
        "id": "l28Za9GR4tMb"
      },
      "outputs": [],
      "source": [
        "import numpy as np\n",
        "import pandas as pd\n",
        "import matplotlib.pyplot as plt\n",
        "import seaborn as sns\n",
        "from sklearn.model_selection import train_test_split\n",
        "from sklearn.linear_model import LinearRegression\n",
        "from sklearn import metrics"
      ]
    },
    {
      "cell_type": "markdown",
      "source": [
        "**Data Collection & Analysis**"
      ],
      "metadata": {
        "id": "JCFWMlrZ7rL2"
      }
    },
    {
      "cell_type": "code",
      "source": [
        "# Loading the data from csv file to a pandas DataFrame\n",
        "insurance_dataset = pd.read_csv('/content/insurance.csv')"
      ],
      "metadata": {
        "id": "H4UA1gds7iJV"
      },
      "execution_count": 170,
      "outputs": []
    },
    {
      "cell_type": "code",
      "source": [
        "# Printing first 5 rows of the dataframe\n",
        "insurance_dataset.head()"
      ],
      "metadata": {
        "colab": {
          "base_uri": "https://localhost:8080/",
          "height": 206
        },
        "id": "opgDopWb8wzs",
        "outputId": "dcc88efe-5de5-404c-e930-29af49154e09"
      },
      "execution_count": 171,
      "outputs": [
        {
          "output_type": "execute_result",
          "data": {
            "text/plain": [
              "   age     sex     bmi  children smoker     region      charges\n",
              "0   19  female  27.900         0    yes  southwest  16884.92400\n",
              "1   18    male  33.770         1     no  southeast   1725.55230\n",
              "2   28    male  33.000         3     no  southeast   4449.46200\n",
              "3   33    male  22.705         0     no  northwest  21984.47061\n",
              "4   32    male  28.880         0     no  northwest   3866.85520"
            ],
            "text/html": [
              "\n",
              "  <div id=\"df-73312d7e-7844-487a-a04f-0d81144065a6\" class=\"colab-df-container\">\n",
              "    <div>\n",
              "<style scoped>\n",
              "    .dataframe tbody tr th:only-of-type {\n",
              "        vertical-align: middle;\n",
              "    }\n",
              "\n",
              "    .dataframe tbody tr th {\n",
              "        vertical-align: top;\n",
              "    }\n",
              "\n",
              "    .dataframe thead th {\n",
              "        text-align: right;\n",
              "    }\n",
              "</style>\n",
              "<table border=\"1\" class=\"dataframe\">\n",
              "  <thead>\n",
              "    <tr style=\"text-align: right;\">\n",
              "      <th></th>\n",
              "      <th>age</th>\n",
              "      <th>sex</th>\n",
              "      <th>bmi</th>\n",
              "      <th>children</th>\n",
              "      <th>smoker</th>\n",
              "      <th>region</th>\n",
              "      <th>charges</th>\n",
              "    </tr>\n",
              "  </thead>\n",
              "  <tbody>\n",
              "    <tr>\n",
              "      <th>0</th>\n",
              "      <td>19</td>\n",
              "      <td>female</td>\n",
              "      <td>27.900</td>\n",
              "      <td>0</td>\n",
              "      <td>yes</td>\n",
              "      <td>southwest</td>\n",
              "      <td>16884.92400</td>\n",
              "    </tr>\n",
              "    <tr>\n",
              "      <th>1</th>\n",
              "      <td>18</td>\n",
              "      <td>male</td>\n",
              "      <td>33.770</td>\n",
              "      <td>1</td>\n",
              "      <td>no</td>\n",
              "      <td>southeast</td>\n",
              "      <td>1725.55230</td>\n",
              "    </tr>\n",
              "    <tr>\n",
              "      <th>2</th>\n",
              "      <td>28</td>\n",
              "      <td>male</td>\n",
              "      <td>33.000</td>\n",
              "      <td>3</td>\n",
              "      <td>no</td>\n",
              "      <td>southeast</td>\n",
              "      <td>4449.46200</td>\n",
              "    </tr>\n",
              "    <tr>\n",
              "      <th>3</th>\n",
              "      <td>33</td>\n",
              "      <td>male</td>\n",
              "      <td>22.705</td>\n",
              "      <td>0</td>\n",
              "      <td>no</td>\n",
              "      <td>northwest</td>\n",
              "      <td>21984.47061</td>\n",
              "    </tr>\n",
              "    <tr>\n",
              "      <th>4</th>\n",
              "      <td>32</td>\n",
              "      <td>male</td>\n",
              "      <td>28.880</td>\n",
              "      <td>0</td>\n",
              "      <td>no</td>\n",
              "      <td>northwest</td>\n",
              "      <td>3866.85520</td>\n",
              "    </tr>\n",
              "  </tbody>\n",
              "</table>\n",
              "</div>\n",
              "    <div class=\"colab-df-buttons\">\n",
              "\n",
              "  <div class=\"colab-df-container\">\n",
              "    <button class=\"colab-df-convert\" onclick=\"convertToInteractive('df-73312d7e-7844-487a-a04f-0d81144065a6')\"\n",
              "            title=\"Convert this dataframe to an interactive table.\"\n",
              "            style=\"display:none;\">\n",
              "\n",
              "  <svg xmlns=\"http://www.w3.org/2000/svg\" height=\"24px\" viewBox=\"0 -960 960 960\">\n",
              "    <path d=\"M120-120v-720h720v720H120Zm60-500h600v-160H180v160Zm220 220h160v-160H400v160Zm0 220h160v-160H400v160ZM180-400h160v-160H180v160Zm440 0h160v-160H620v160ZM180-180h160v-160H180v160Zm440 0h160v-160H620v160Z\"/>\n",
              "  </svg>\n",
              "    </button>\n",
              "\n",
              "  <style>\n",
              "    .colab-df-container {\n",
              "      display:flex;\n",
              "      gap: 12px;\n",
              "    }\n",
              "\n",
              "    .colab-df-convert {\n",
              "      background-color: #E8F0FE;\n",
              "      border: none;\n",
              "      border-radius: 50%;\n",
              "      cursor: pointer;\n",
              "      display: none;\n",
              "      fill: #1967D2;\n",
              "      height: 32px;\n",
              "      padding: 0 0 0 0;\n",
              "      width: 32px;\n",
              "    }\n",
              "\n",
              "    .colab-df-convert:hover {\n",
              "      background-color: #E2EBFA;\n",
              "      box-shadow: 0px 1px 2px rgba(60, 64, 67, 0.3), 0px 1px 3px 1px rgba(60, 64, 67, 0.15);\n",
              "      fill: #174EA6;\n",
              "    }\n",
              "\n",
              "    .colab-df-buttons div {\n",
              "      margin-bottom: 4px;\n",
              "    }\n",
              "\n",
              "    [theme=dark] .colab-df-convert {\n",
              "      background-color: #3B4455;\n",
              "      fill: #D2E3FC;\n",
              "    }\n",
              "\n",
              "    [theme=dark] .colab-df-convert:hover {\n",
              "      background-color: #434B5C;\n",
              "      box-shadow: 0px 1px 3px 1px rgba(0, 0, 0, 0.15);\n",
              "      filter: drop-shadow(0px 1px 2px rgba(0, 0, 0, 0.3));\n",
              "      fill: #FFFFFF;\n",
              "    }\n",
              "  </style>\n",
              "\n",
              "    <script>\n",
              "      const buttonEl =\n",
              "        document.querySelector('#df-73312d7e-7844-487a-a04f-0d81144065a6 button.colab-df-convert');\n",
              "      buttonEl.style.display =\n",
              "        google.colab.kernel.accessAllowed ? 'block' : 'none';\n",
              "\n",
              "      async function convertToInteractive(key) {\n",
              "        const element = document.querySelector('#df-73312d7e-7844-487a-a04f-0d81144065a6');\n",
              "        const dataTable =\n",
              "          await google.colab.kernel.invokeFunction('convertToInteractive',\n",
              "                                                    [key], {});\n",
              "        if (!dataTable) return;\n",
              "\n",
              "        const docLinkHtml = 'Like what you see? Visit the ' +\n",
              "          '<a target=\"_blank\" href=https://colab.research.google.com/notebooks/data_table.ipynb>data table notebook</a>'\n",
              "          + ' to learn more about interactive tables.';\n",
              "        element.innerHTML = '';\n",
              "        dataTable['output_type'] = 'display_data';\n",
              "        await google.colab.output.renderOutput(dataTable, element);\n",
              "        const docLink = document.createElement('div');\n",
              "        docLink.innerHTML = docLinkHtml;\n",
              "        element.appendChild(docLink);\n",
              "      }\n",
              "    </script>\n",
              "  </div>\n",
              "\n",
              "\n",
              "<div id=\"df-6804c371-d4ba-494b-ad1f-a4d3b2a52b98\">\n",
              "  <button class=\"colab-df-quickchart\" onclick=\"quickchart('df-6804c371-d4ba-494b-ad1f-a4d3b2a52b98')\"\n",
              "            title=\"Suggest charts\"\n",
              "            style=\"display:none;\">\n",
              "\n",
              "<svg xmlns=\"http://www.w3.org/2000/svg\" height=\"24px\"viewBox=\"0 0 24 24\"\n",
              "     width=\"24px\">\n",
              "    <g>\n",
              "        <path d=\"M19 3H5c-1.1 0-2 .9-2 2v14c0 1.1.9 2 2 2h14c1.1 0 2-.9 2-2V5c0-1.1-.9-2-2-2zM9 17H7v-7h2v7zm4 0h-2V7h2v10zm4 0h-2v-4h2v4z\"/>\n",
              "    </g>\n",
              "</svg>\n",
              "  </button>\n",
              "\n",
              "<style>\n",
              "  .colab-df-quickchart {\n",
              "      --bg-color: #E8F0FE;\n",
              "      --fill-color: #1967D2;\n",
              "      --hover-bg-color: #E2EBFA;\n",
              "      --hover-fill-color: #174EA6;\n",
              "      --disabled-fill-color: #AAA;\n",
              "      --disabled-bg-color: #DDD;\n",
              "  }\n",
              "\n",
              "  [theme=dark] .colab-df-quickchart {\n",
              "      --bg-color: #3B4455;\n",
              "      --fill-color: #D2E3FC;\n",
              "      --hover-bg-color: #434B5C;\n",
              "      --hover-fill-color: #FFFFFF;\n",
              "      --disabled-bg-color: #3B4455;\n",
              "      --disabled-fill-color: #666;\n",
              "  }\n",
              "\n",
              "  .colab-df-quickchart {\n",
              "    background-color: var(--bg-color);\n",
              "    border: none;\n",
              "    border-radius: 50%;\n",
              "    cursor: pointer;\n",
              "    display: none;\n",
              "    fill: var(--fill-color);\n",
              "    height: 32px;\n",
              "    padding: 0;\n",
              "    width: 32px;\n",
              "  }\n",
              "\n",
              "  .colab-df-quickchart:hover {\n",
              "    background-color: var(--hover-bg-color);\n",
              "    box-shadow: 0 1px 2px rgba(60, 64, 67, 0.3), 0 1px 3px 1px rgba(60, 64, 67, 0.15);\n",
              "    fill: var(--button-hover-fill-color);\n",
              "  }\n",
              "\n",
              "  .colab-df-quickchart-complete:disabled,\n",
              "  .colab-df-quickchart-complete:disabled:hover {\n",
              "    background-color: var(--disabled-bg-color);\n",
              "    fill: var(--disabled-fill-color);\n",
              "    box-shadow: none;\n",
              "  }\n",
              "\n",
              "  .colab-df-spinner {\n",
              "    border: 2px solid var(--fill-color);\n",
              "    border-color: transparent;\n",
              "    border-bottom-color: var(--fill-color);\n",
              "    animation:\n",
              "      spin 1s steps(1) infinite;\n",
              "  }\n",
              "\n",
              "  @keyframes spin {\n",
              "    0% {\n",
              "      border-color: transparent;\n",
              "      border-bottom-color: var(--fill-color);\n",
              "      border-left-color: var(--fill-color);\n",
              "    }\n",
              "    20% {\n",
              "      border-color: transparent;\n",
              "      border-left-color: var(--fill-color);\n",
              "      border-top-color: var(--fill-color);\n",
              "    }\n",
              "    30% {\n",
              "      border-color: transparent;\n",
              "      border-left-color: var(--fill-color);\n",
              "      border-top-color: var(--fill-color);\n",
              "      border-right-color: var(--fill-color);\n",
              "    }\n",
              "    40% {\n",
              "      border-color: transparent;\n",
              "      border-right-color: var(--fill-color);\n",
              "      border-top-color: var(--fill-color);\n",
              "    }\n",
              "    60% {\n",
              "      border-color: transparent;\n",
              "      border-right-color: var(--fill-color);\n",
              "    }\n",
              "    80% {\n",
              "      border-color: transparent;\n",
              "      border-right-color: var(--fill-color);\n",
              "      border-bottom-color: var(--fill-color);\n",
              "    }\n",
              "    90% {\n",
              "      border-color: transparent;\n",
              "      border-bottom-color: var(--fill-color);\n",
              "    }\n",
              "  }\n",
              "</style>\n",
              "\n",
              "  <script>\n",
              "    async function quickchart(key) {\n",
              "      const quickchartButtonEl =\n",
              "        document.querySelector('#' + key + ' button');\n",
              "      quickchartButtonEl.disabled = true;  // To prevent multiple clicks.\n",
              "      quickchartButtonEl.classList.add('colab-df-spinner');\n",
              "      try {\n",
              "        const charts = await google.colab.kernel.invokeFunction(\n",
              "            'suggestCharts', [key], {});\n",
              "      } catch (error) {\n",
              "        console.error('Error during call to suggestCharts:', error);\n",
              "      }\n",
              "      quickchartButtonEl.classList.remove('colab-df-spinner');\n",
              "      quickchartButtonEl.classList.add('colab-df-quickchart-complete');\n",
              "    }\n",
              "    (() => {\n",
              "      let quickchartButtonEl =\n",
              "        document.querySelector('#df-6804c371-d4ba-494b-ad1f-a4d3b2a52b98 button');\n",
              "      quickchartButtonEl.style.display =\n",
              "        google.colab.kernel.accessAllowed ? 'block' : 'none';\n",
              "    })();\n",
              "  </script>\n",
              "</div>\n",
              "\n",
              "    </div>\n",
              "  </div>\n"
            ],
            "application/vnd.google.colaboratory.intrinsic+json": {
              "type": "dataframe",
              "variable_name": "insurance_dataset",
              "summary": "{\n  \"name\": \"insurance_dataset\",\n  \"rows\": 1338,\n  \"fields\": [\n    {\n      \"column\": \"age\",\n      \"properties\": {\n        \"dtype\": \"number\",\n        \"std\": 14,\n        \"min\": 18,\n        \"max\": 64,\n        \"num_unique_values\": 47,\n        \"samples\": [\n          21,\n          45,\n          36\n        ],\n        \"semantic_type\": \"\",\n        \"description\": \"\"\n      }\n    },\n    {\n      \"column\": \"sex\",\n      \"properties\": {\n        \"dtype\": \"category\",\n        \"num_unique_values\": 2,\n        \"samples\": [\n          \"male\",\n          \"female\"\n        ],\n        \"semantic_type\": \"\",\n        \"description\": \"\"\n      }\n    },\n    {\n      \"column\": \"bmi\",\n      \"properties\": {\n        \"dtype\": \"number\",\n        \"std\": 6.098186911679017,\n        \"min\": 15.96,\n        \"max\": 53.13,\n        \"num_unique_values\": 548,\n        \"samples\": [\n          23.18,\n          26.885\n        ],\n        \"semantic_type\": \"\",\n        \"description\": \"\"\n      }\n    },\n    {\n      \"column\": \"children\",\n      \"properties\": {\n        \"dtype\": \"number\",\n        \"std\": 1,\n        \"min\": 0,\n        \"max\": 5,\n        \"num_unique_values\": 6,\n        \"samples\": [\n          0,\n          1\n        ],\n        \"semantic_type\": \"\",\n        \"description\": \"\"\n      }\n    },\n    {\n      \"column\": \"smoker\",\n      \"properties\": {\n        \"dtype\": \"category\",\n        \"num_unique_values\": 2,\n        \"samples\": [\n          \"no\",\n          \"yes\"\n        ],\n        \"semantic_type\": \"\",\n        \"description\": \"\"\n      }\n    },\n    {\n      \"column\": \"region\",\n      \"properties\": {\n        \"dtype\": \"category\",\n        \"num_unique_values\": 4,\n        \"samples\": [\n          \"southeast\",\n          \"northeast\"\n        ],\n        \"semantic_type\": \"\",\n        \"description\": \"\"\n      }\n    },\n    {\n      \"column\": \"charges\",\n      \"properties\": {\n        \"dtype\": \"number\",\n        \"std\": 12110.011236693994,\n        \"min\": 1121.8739,\n        \"max\": 63770.42801,\n        \"num_unique_values\": 1337,\n        \"samples\": [\n          8688.85885,\n          5708.867\n        ],\n        \"semantic_type\": \"\",\n        \"description\": \"\"\n      }\n    }\n  ]\n}"
            }
          },
          "metadata": {},
          "execution_count": 171
        }
      ]
    },
    {
      "cell_type": "code",
      "source": [
        "# number of rows and columns\n",
        "insurance_dataset.shape"
      ],
      "metadata": {
        "colab": {
          "base_uri": "https://localhost:8080/"
        },
        "id": "uF-eeI4L8-Ji",
        "outputId": "b8f54102-0d81-4bde-9d88-3f03b55ad757"
      },
      "execution_count": 172,
      "outputs": [
        {
          "output_type": "execute_result",
          "data": {
            "text/plain": [
              "(1338, 7)"
            ]
          },
          "metadata": {},
          "execution_count": 172
        }
      ]
    },
    {
      "cell_type": "code",
      "source": [
        "# To getting some information about the dataset\n",
        "insurance_dataset.info()"
      ],
      "metadata": {
        "colab": {
          "base_uri": "https://localhost:8080/"
        },
        "id": "uiEiuflW9JOq",
        "outputId": "cdf3fca9-6589-4475-bb20-d521700c2041"
      },
      "execution_count": 173,
      "outputs": [
        {
          "output_type": "stream",
          "name": "stdout",
          "text": [
            "<class 'pandas.core.frame.DataFrame'>\n",
            "RangeIndex: 1338 entries, 0 to 1337\n",
            "Data columns (total 7 columns):\n",
            " #   Column    Non-Null Count  Dtype  \n",
            "---  ------    --------------  -----  \n",
            " 0   age       1338 non-null   int64  \n",
            " 1   sex       1338 non-null   object \n",
            " 2   bmi       1338 non-null   float64\n",
            " 3   children  1338 non-null   int64  \n",
            " 4   smoker    1338 non-null   object \n",
            " 5   region    1338 non-null   object \n",
            " 6   charges   1338 non-null   float64\n",
            "dtypes: float64(2), int64(2), object(3)\n",
            "memory usage: 73.3+ KB\n"
          ]
        }
      ]
    },
    {
      "cell_type": "markdown",
      "source": [
        "Categorical Features:\n",
        "*   Sex\n",
        "*   Smoker\n",
        "*   Region\n",
        "\n",
        "\n",
        "\n",
        "\n"
      ],
      "metadata": {
        "id": "gj1qG4_J9-Ck"
      }
    },
    {
      "cell_type": "code",
      "source": [
        "# Checking for missing values\n",
        "insurance_dataset.isnull().sum()"
      ],
      "metadata": {
        "colab": {
          "base_uri": "https://localhost:8080/",
          "height": 303
        },
        "id": "KuPTWqY29UyB",
        "outputId": "dd4317df-4406-42f6-bb6e-8772c72e96de"
      },
      "execution_count": 174,
      "outputs": [
        {
          "output_type": "execute_result",
          "data": {
            "text/plain": [
              "age         0\n",
              "sex         0\n",
              "bmi         0\n",
              "children    0\n",
              "smoker      0\n",
              "region      0\n",
              "charges     0\n",
              "dtype: int64"
            ],
            "text/html": [
              "<div>\n",
              "<style scoped>\n",
              "    .dataframe tbody tr th:only-of-type {\n",
              "        vertical-align: middle;\n",
              "    }\n",
              "\n",
              "    .dataframe tbody tr th {\n",
              "        vertical-align: top;\n",
              "    }\n",
              "\n",
              "    .dataframe thead th {\n",
              "        text-align: right;\n",
              "    }\n",
              "</style>\n",
              "<table border=\"1\" class=\"dataframe\">\n",
              "  <thead>\n",
              "    <tr style=\"text-align: right;\">\n",
              "      <th></th>\n",
              "      <th>0</th>\n",
              "    </tr>\n",
              "  </thead>\n",
              "  <tbody>\n",
              "    <tr>\n",
              "      <th>age</th>\n",
              "      <td>0</td>\n",
              "    </tr>\n",
              "    <tr>\n",
              "      <th>sex</th>\n",
              "      <td>0</td>\n",
              "    </tr>\n",
              "    <tr>\n",
              "      <th>bmi</th>\n",
              "      <td>0</td>\n",
              "    </tr>\n",
              "    <tr>\n",
              "      <th>children</th>\n",
              "      <td>0</td>\n",
              "    </tr>\n",
              "    <tr>\n",
              "      <th>smoker</th>\n",
              "      <td>0</td>\n",
              "    </tr>\n",
              "    <tr>\n",
              "      <th>region</th>\n",
              "      <td>0</td>\n",
              "    </tr>\n",
              "    <tr>\n",
              "      <th>charges</th>\n",
              "      <td>0</td>\n",
              "    </tr>\n",
              "  </tbody>\n",
              "</table>\n",
              "</div><br><label><b>dtype:</b> int64</label>"
            ]
          },
          "metadata": {},
          "execution_count": 174
        }
      ]
    },
    {
      "cell_type": "markdown",
      "source": [
        "Data Analysis"
      ],
      "metadata": {
        "id": "rQjtMlP7-i__"
      }
    },
    {
      "cell_type": "code",
      "source": [
        "#statistical measures of the dataset\n",
        "insurance_dataset.describe()"
      ],
      "metadata": {
        "colab": {
          "base_uri": "https://localhost:8080/",
          "height": 300
        },
        "id": "LyKYtR6j-ikF",
        "outputId": "e8234716-036a-47b3-aefc-2d9f59f1e61a"
      },
      "execution_count": 175,
      "outputs": [
        {
          "output_type": "execute_result",
          "data": {
            "text/plain": [
              "               age          bmi     children       charges\n",
              "count  1338.000000  1338.000000  1338.000000   1338.000000\n",
              "mean     39.207025    30.663397     1.094918  13270.422265\n",
              "std      14.049960     6.098187     1.205493  12110.011237\n",
              "min      18.000000    15.960000     0.000000   1121.873900\n",
              "25%      27.000000    26.296250     0.000000   4740.287150\n",
              "50%      39.000000    30.400000     1.000000   9382.033000\n",
              "75%      51.000000    34.693750     2.000000  16639.912515\n",
              "max      64.000000    53.130000     5.000000  63770.428010"
            ],
            "text/html": [
              "\n",
              "  <div id=\"df-73c8ed3e-71bf-4106-bfdd-cdd27972aae8\" class=\"colab-df-container\">\n",
              "    <div>\n",
              "<style scoped>\n",
              "    .dataframe tbody tr th:only-of-type {\n",
              "        vertical-align: middle;\n",
              "    }\n",
              "\n",
              "    .dataframe tbody tr th {\n",
              "        vertical-align: top;\n",
              "    }\n",
              "\n",
              "    .dataframe thead th {\n",
              "        text-align: right;\n",
              "    }\n",
              "</style>\n",
              "<table border=\"1\" class=\"dataframe\">\n",
              "  <thead>\n",
              "    <tr style=\"text-align: right;\">\n",
              "      <th></th>\n",
              "      <th>age</th>\n",
              "      <th>bmi</th>\n",
              "      <th>children</th>\n",
              "      <th>charges</th>\n",
              "    </tr>\n",
              "  </thead>\n",
              "  <tbody>\n",
              "    <tr>\n",
              "      <th>count</th>\n",
              "      <td>1338.000000</td>\n",
              "      <td>1338.000000</td>\n",
              "      <td>1338.000000</td>\n",
              "      <td>1338.000000</td>\n",
              "    </tr>\n",
              "    <tr>\n",
              "      <th>mean</th>\n",
              "      <td>39.207025</td>\n",
              "      <td>30.663397</td>\n",
              "      <td>1.094918</td>\n",
              "      <td>13270.422265</td>\n",
              "    </tr>\n",
              "    <tr>\n",
              "      <th>std</th>\n",
              "      <td>14.049960</td>\n",
              "      <td>6.098187</td>\n",
              "      <td>1.205493</td>\n",
              "      <td>12110.011237</td>\n",
              "    </tr>\n",
              "    <tr>\n",
              "      <th>min</th>\n",
              "      <td>18.000000</td>\n",
              "      <td>15.960000</td>\n",
              "      <td>0.000000</td>\n",
              "      <td>1121.873900</td>\n",
              "    </tr>\n",
              "    <tr>\n",
              "      <th>25%</th>\n",
              "      <td>27.000000</td>\n",
              "      <td>26.296250</td>\n",
              "      <td>0.000000</td>\n",
              "      <td>4740.287150</td>\n",
              "    </tr>\n",
              "    <tr>\n",
              "      <th>50%</th>\n",
              "      <td>39.000000</td>\n",
              "      <td>30.400000</td>\n",
              "      <td>1.000000</td>\n",
              "      <td>9382.033000</td>\n",
              "    </tr>\n",
              "    <tr>\n",
              "      <th>75%</th>\n",
              "      <td>51.000000</td>\n",
              "      <td>34.693750</td>\n",
              "      <td>2.000000</td>\n",
              "      <td>16639.912515</td>\n",
              "    </tr>\n",
              "    <tr>\n",
              "      <th>max</th>\n",
              "      <td>64.000000</td>\n",
              "      <td>53.130000</td>\n",
              "      <td>5.000000</td>\n",
              "      <td>63770.428010</td>\n",
              "    </tr>\n",
              "  </tbody>\n",
              "</table>\n",
              "</div>\n",
              "    <div class=\"colab-df-buttons\">\n",
              "\n",
              "  <div class=\"colab-df-container\">\n",
              "    <button class=\"colab-df-convert\" onclick=\"convertToInteractive('df-73c8ed3e-71bf-4106-bfdd-cdd27972aae8')\"\n",
              "            title=\"Convert this dataframe to an interactive table.\"\n",
              "            style=\"display:none;\">\n",
              "\n",
              "  <svg xmlns=\"http://www.w3.org/2000/svg\" height=\"24px\" viewBox=\"0 -960 960 960\">\n",
              "    <path d=\"M120-120v-720h720v720H120Zm60-500h600v-160H180v160Zm220 220h160v-160H400v160Zm0 220h160v-160H400v160ZM180-400h160v-160H180v160Zm440 0h160v-160H620v160ZM180-180h160v-160H180v160Zm440 0h160v-160H620v160Z\"/>\n",
              "  </svg>\n",
              "    </button>\n",
              "\n",
              "  <style>\n",
              "    .colab-df-container {\n",
              "      display:flex;\n",
              "      gap: 12px;\n",
              "    }\n",
              "\n",
              "    .colab-df-convert {\n",
              "      background-color: #E8F0FE;\n",
              "      border: none;\n",
              "      border-radius: 50%;\n",
              "      cursor: pointer;\n",
              "      display: none;\n",
              "      fill: #1967D2;\n",
              "      height: 32px;\n",
              "      padding: 0 0 0 0;\n",
              "      width: 32px;\n",
              "    }\n",
              "\n",
              "    .colab-df-convert:hover {\n",
              "      background-color: #E2EBFA;\n",
              "      box-shadow: 0px 1px 2px rgba(60, 64, 67, 0.3), 0px 1px 3px 1px rgba(60, 64, 67, 0.15);\n",
              "      fill: #174EA6;\n",
              "    }\n",
              "\n",
              "    .colab-df-buttons div {\n",
              "      margin-bottom: 4px;\n",
              "    }\n",
              "\n",
              "    [theme=dark] .colab-df-convert {\n",
              "      background-color: #3B4455;\n",
              "      fill: #D2E3FC;\n",
              "    }\n",
              "\n",
              "    [theme=dark] .colab-df-convert:hover {\n",
              "      background-color: #434B5C;\n",
              "      box-shadow: 0px 1px 3px 1px rgba(0, 0, 0, 0.15);\n",
              "      filter: drop-shadow(0px 1px 2px rgba(0, 0, 0, 0.3));\n",
              "      fill: #FFFFFF;\n",
              "    }\n",
              "  </style>\n",
              "\n",
              "    <script>\n",
              "      const buttonEl =\n",
              "        document.querySelector('#df-73c8ed3e-71bf-4106-bfdd-cdd27972aae8 button.colab-df-convert');\n",
              "      buttonEl.style.display =\n",
              "        google.colab.kernel.accessAllowed ? 'block' : 'none';\n",
              "\n",
              "      async function convertToInteractive(key) {\n",
              "        const element = document.querySelector('#df-73c8ed3e-71bf-4106-bfdd-cdd27972aae8');\n",
              "        const dataTable =\n",
              "          await google.colab.kernel.invokeFunction('convertToInteractive',\n",
              "                                                    [key], {});\n",
              "        if (!dataTable) return;\n",
              "\n",
              "        const docLinkHtml = 'Like what you see? Visit the ' +\n",
              "          '<a target=\"_blank\" href=https://colab.research.google.com/notebooks/data_table.ipynb>data table notebook</a>'\n",
              "          + ' to learn more about interactive tables.';\n",
              "        element.innerHTML = '';\n",
              "        dataTable['output_type'] = 'display_data';\n",
              "        await google.colab.output.renderOutput(dataTable, element);\n",
              "        const docLink = document.createElement('div');\n",
              "        docLink.innerHTML = docLinkHtml;\n",
              "        element.appendChild(docLink);\n",
              "      }\n",
              "    </script>\n",
              "  </div>\n",
              "\n",
              "\n",
              "<div id=\"df-ad79c1dd-31b2-478a-ac47-20385799003c\">\n",
              "  <button class=\"colab-df-quickchart\" onclick=\"quickchart('df-ad79c1dd-31b2-478a-ac47-20385799003c')\"\n",
              "            title=\"Suggest charts\"\n",
              "            style=\"display:none;\">\n",
              "\n",
              "<svg xmlns=\"http://www.w3.org/2000/svg\" height=\"24px\"viewBox=\"0 0 24 24\"\n",
              "     width=\"24px\">\n",
              "    <g>\n",
              "        <path d=\"M19 3H5c-1.1 0-2 .9-2 2v14c0 1.1.9 2 2 2h14c1.1 0 2-.9 2-2V5c0-1.1-.9-2-2-2zM9 17H7v-7h2v7zm4 0h-2V7h2v10zm4 0h-2v-4h2v4z\"/>\n",
              "    </g>\n",
              "</svg>\n",
              "  </button>\n",
              "\n",
              "<style>\n",
              "  .colab-df-quickchart {\n",
              "      --bg-color: #E8F0FE;\n",
              "      --fill-color: #1967D2;\n",
              "      --hover-bg-color: #E2EBFA;\n",
              "      --hover-fill-color: #174EA6;\n",
              "      --disabled-fill-color: #AAA;\n",
              "      --disabled-bg-color: #DDD;\n",
              "  }\n",
              "\n",
              "  [theme=dark] .colab-df-quickchart {\n",
              "      --bg-color: #3B4455;\n",
              "      --fill-color: #D2E3FC;\n",
              "      --hover-bg-color: #434B5C;\n",
              "      --hover-fill-color: #FFFFFF;\n",
              "      --disabled-bg-color: #3B4455;\n",
              "      --disabled-fill-color: #666;\n",
              "  }\n",
              "\n",
              "  .colab-df-quickchart {\n",
              "    background-color: var(--bg-color);\n",
              "    border: none;\n",
              "    border-radius: 50%;\n",
              "    cursor: pointer;\n",
              "    display: none;\n",
              "    fill: var(--fill-color);\n",
              "    height: 32px;\n",
              "    padding: 0;\n",
              "    width: 32px;\n",
              "  }\n",
              "\n",
              "  .colab-df-quickchart:hover {\n",
              "    background-color: var(--hover-bg-color);\n",
              "    box-shadow: 0 1px 2px rgba(60, 64, 67, 0.3), 0 1px 3px 1px rgba(60, 64, 67, 0.15);\n",
              "    fill: var(--button-hover-fill-color);\n",
              "  }\n",
              "\n",
              "  .colab-df-quickchart-complete:disabled,\n",
              "  .colab-df-quickchart-complete:disabled:hover {\n",
              "    background-color: var(--disabled-bg-color);\n",
              "    fill: var(--disabled-fill-color);\n",
              "    box-shadow: none;\n",
              "  }\n",
              "\n",
              "  .colab-df-spinner {\n",
              "    border: 2px solid var(--fill-color);\n",
              "    border-color: transparent;\n",
              "    border-bottom-color: var(--fill-color);\n",
              "    animation:\n",
              "      spin 1s steps(1) infinite;\n",
              "  }\n",
              "\n",
              "  @keyframes spin {\n",
              "    0% {\n",
              "      border-color: transparent;\n",
              "      border-bottom-color: var(--fill-color);\n",
              "      border-left-color: var(--fill-color);\n",
              "    }\n",
              "    20% {\n",
              "      border-color: transparent;\n",
              "      border-left-color: var(--fill-color);\n",
              "      border-top-color: var(--fill-color);\n",
              "    }\n",
              "    30% {\n",
              "      border-color: transparent;\n",
              "      border-left-color: var(--fill-color);\n",
              "      border-top-color: var(--fill-color);\n",
              "      border-right-color: var(--fill-color);\n",
              "    }\n",
              "    40% {\n",
              "      border-color: transparent;\n",
              "      border-right-color: var(--fill-color);\n",
              "      border-top-color: var(--fill-color);\n",
              "    }\n",
              "    60% {\n",
              "      border-color: transparent;\n",
              "      border-right-color: var(--fill-color);\n",
              "    }\n",
              "    80% {\n",
              "      border-color: transparent;\n",
              "      border-right-color: var(--fill-color);\n",
              "      border-bottom-color: var(--fill-color);\n",
              "    }\n",
              "    90% {\n",
              "      border-color: transparent;\n",
              "      border-bottom-color: var(--fill-color);\n",
              "    }\n",
              "  }\n",
              "</style>\n",
              "\n",
              "  <script>\n",
              "    async function quickchart(key) {\n",
              "      const quickchartButtonEl =\n",
              "        document.querySelector('#' + key + ' button');\n",
              "      quickchartButtonEl.disabled = true;  // To prevent multiple clicks.\n",
              "      quickchartButtonEl.classList.add('colab-df-spinner');\n",
              "      try {\n",
              "        const charts = await google.colab.kernel.invokeFunction(\n",
              "            'suggestCharts', [key], {});\n",
              "      } catch (error) {\n",
              "        console.error('Error during call to suggestCharts:', error);\n",
              "      }\n",
              "      quickchartButtonEl.classList.remove('colab-df-spinner');\n",
              "      quickchartButtonEl.classList.add('colab-df-quickchart-complete');\n",
              "    }\n",
              "    (() => {\n",
              "      let quickchartButtonEl =\n",
              "        document.querySelector('#df-ad79c1dd-31b2-478a-ac47-20385799003c button');\n",
              "      quickchartButtonEl.style.display =\n",
              "        google.colab.kernel.accessAllowed ? 'block' : 'none';\n",
              "    })();\n",
              "  </script>\n",
              "</div>\n",
              "\n",
              "    </div>\n",
              "  </div>\n"
            ],
            "application/vnd.google.colaboratory.intrinsic+json": {
              "type": "dataframe",
              "summary": "{\n  \"name\": \"insurance_dataset\",\n  \"rows\": 8,\n  \"fields\": [\n    {\n      \"column\": \"age\",\n      \"properties\": {\n        \"dtype\": \"number\",\n        \"std\": 460.6106090399993,\n        \"min\": 14.049960379216172,\n        \"max\": 1338.0,\n        \"num_unique_values\": 8,\n        \"samples\": [\n          39.20702541106129,\n          39.0,\n          1338.0\n        ],\n        \"semantic_type\": \"\",\n        \"description\": \"\"\n      }\n    },\n    {\n      \"column\": \"bmi\",\n      \"properties\": {\n        \"dtype\": \"number\",\n        \"std\": 463.29524977918294,\n        \"min\": 6.098186911679017,\n        \"max\": 1338.0,\n        \"num_unique_values\": 8,\n        \"samples\": [\n          30.66339686098655,\n          30.4,\n          1338.0\n        ],\n        \"semantic_type\": \"\",\n        \"description\": \"\"\n      }\n    },\n    {\n      \"column\": \"children\",\n      \"properties\": {\n        \"dtype\": \"number\",\n        \"std\": 472.5368318870757,\n        \"min\": 0.0,\n        \"max\": 1338.0,\n        \"num_unique_values\": 7,\n        \"samples\": [\n          1338.0,\n          1.0949177877429,\n          2.0\n        ],\n        \"semantic_type\": \"\",\n        \"description\": \"\"\n      }\n    },\n    {\n      \"column\": \"charges\",\n      \"properties\": {\n        \"dtype\": \"number\",\n        \"std\": 20381.922846226596,\n        \"min\": 1121.8739,\n        \"max\": 63770.42801,\n        \"num_unique_values\": 8,\n        \"samples\": [\n          13270.422265141257,\n          9382.033,\n          1338.0\n        ],\n        \"semantic_type\": \"\",\n        \"description\": \"\"\n      }\n    }\n  ]\n}"
            }
          },
          "metadata": {},
          "execution_count": 175
        }
      ]
    },
    {
      "cell_type": "code",
      "source": [
        "# distribution of age value\n",
        "sns.set()\n",
        "plt.figure(figsize=(6,6))\n",
        "sns.displot(insurance_dataset['age'])\n",
        "plt.title('Age Distribution')\n",
        "plt.show()"
      ],
      "metadata": {
        "colab": {
          "base_uri": "https://localhost:8080/",
          "height": 540
        },
        "id": "_4GVSEz--gEB",
        "outputId": "b66d33fd-e432-41a0-afff-3a22ac27aa9e"
      },
      "execution_count": 176,
      "outputs": [
        {
          "output_type": "display_data",
          "data": {
            "text/plain": [
              "<Figure size 600x600 with 0 Axes>"
            ]
          },
          "metadata": {}
        },
        {
          "output_type": "display_data",
          "data": {
            "text/plain": [
              "<Figure size 500x500 with 1 Axes>"
            ],
            "image/png": "[encoded data removed]"
          },
          "metadata": {}
        }
      ]
    },
    {
      "cell_type": "code",
      "source": [
        "#Gender column\n",
        "plt.figure(figsize = (6,6))\n",
        "sns.countplot(x = 'sex' , data = insurance_dataset)\n",
        "plt.title('Sex distribution')\n",
        "plt.show()"
      ],
      "metadata": {
        "colab": {
          "base_uri": "https://localhost:8080/",
          "height": 573
        },
        "id": "W4MWgeAW_RHF",
        "outputId": "b1fdde93-c0eb-4339-8b63-845cecf72774"
      },
      "execution_count": 177,
      "outputs": [
        {
          "output_type": "display_data",
          "data": {
            "text/plain": [
              "<Figure size 600x600 with 1 Axes>"
            ],
            "image/png": "[encoded data removed]"
          },
          "metadata": {}
        }
      ]
    },
    {
      "cell_type": "code",
      "source": [
        "insurance_dataset['sex'].value_counts()"
      ],
      "metadata": {
        "colab": {
          "base_uri": "https://localhost:8080/",
          "height": 178
        },
        "id": "NYrIrOkX_2Ak",
        "outputId": "6454dc3e-1f3d-4eb6-ec4a-763203d4a976"
      },
      "execution_count": 178,
      "outputs": [
        {
          "output_type": "execute_result",
          "data": {
            "text/plain": [
              "sex\n",
              "male      676\n",
              "female    662\n",
              "Name: count, dtype: int64"
            ],
            "text/html": [
              "<div>\n",
              "<style scoped>\n",
              "    .dataframe tbody tr th:only-of-type {\n",
              "        vertical-align: middle;\n",
              "    }\n",
              "\n",
              "    .dataframe tbody tr th {\n",
              "        vertical-align: top;\n",
              "    }\n",
              "\n",
              "    .dataframe thead th {\n",
              "        text-align: right;\n",
              "    }\n",
              "</style>\n",
              "<table border=\"1\" class=\"dataframe\">\n",
              "  <thead>\n",
              "    <tr style=\"text-align: right;\">\n",
              "      <th></th>\n",
              "      <th>count</th>\n",
              "    </tr>\n",
              "    <tr>\n",
              "      <th>sex</th>\n",
              "      <th></th>\n",
              "    </tr>\n",
              "  </thead>\n",
              "  <tbody>\n",
              "    <tr>\n",
              "      <th>male</th>\n",
              "      <td>676</td>\n",
              "    </tr>\n",
              "    <tr>\n",
              "      <th>female</th>\n",
              "      <td>662</td>\n",
              "    </tr>\n",
              "  </tbody>\n",
              "</table>\n",
              "</div><br><label><b>dtype:</b> int64</label>"
            ]
          },
          "metadata": {},
          "execution_count": 178
        }
      ]
    },
    {
      "cell_type": "code",
      "source": [
        "#bmi distribution\n",
        "plt.figure(figsize=(6,6))\n",
        "sns.displot(insurance_dataset['bmi'])\n",
        "plt.title('BMI Distribution')\n",
        "plt.show()"
      ],
      "metadata": {
        "colab": {
          "base_uri": "https://localhost:8080/",
          "height": 540
        },
        "id": "OrA9QE0KAKno",
        "outputId": "84663f74-f871-4b78-d7da-8e0896f13174"
      },
      "execution_count": 179,
      "outputs": [
        {
          "output_type": "display_data",
          "data": {
            "text/plain": [
              "<Figure size 600x600 with 0 Axes>"
            ]
          },
          "metadata": {}
        },
        {
          "output_type": "display_data",
          "data": {
            "text/plain": [
              "<Figure size 500x500 with 1 Axes>"
            ],
            "image/png": "[encoded data removed]"
          },
          "metadata": {}
        }
      ]
    },
    {
      "cell_type": "markdown",
      "source": [
        "Normal BMI range = 18.5 to 24.9"
      ],
      "metadata": {
        "id": "Iagr5tLxAlWB"
      }
    },
    {
      "cell_type": "code",
      "source": [
        "# children column\n",
        "plt.figure(figsize = (6,6))\n",
        "sns.countplot(x='children', data= insurance_dataset)\n",
        "plt.title('children')\n",
        "plt.show()"
      ],
      "metadata": {
        "colab": {
          "base_uri": "https://localhost:8080/",
          "height": 573
        },
        "id": "4M_YFChNAZzk",
        "outputId": "56b49a48-394f-4f89-9494-f482a708a9d7"
      },
      "execution_count": 180,
      "outputs": [
        {
          "output_type": "display_data",
          "data": {
            "text/plain": [
              "<Figure size 600x600 with 1 Axes>"
            ],
            "image/png": "[encoded data removed]"
          },
          "metadata": {}
        }
      ]
    },
    {
      "cell_type": "code",
      "source": [
        "insurance_dataset['children'].value_counts()"
      ],
      "metadata": {
        "colab": {
          "base_uri": "https://localhost:8080/",
          "height": 303
        },
        "id": "tEEZiJPEBLYf",
        "outputId": "3ece84c8-361e-4f52-ac43-d08be15c8c9b"
      },
      "execution_count": 181,
      "outputs": [
        {
          "output_type": "execute_result",
          "data": {
            "text/plain": [
              "children\n",
              "0    574\n",
              "1    324\n",
              "2    240\n",
              "3    157\n",
              "4     25\n",
              "5     18\n",
              "Name: count, dtype: int64"
            ],
            "text/html": [
              "<div>\n",
              "<style scoped>\n",
              "    .dataframe tbody tr th:only-of-type {\n",
              "        vertical-align: middle;\n",
              "    }\n",
              "\n",
              "    .dataframe tbody tr th {\n",
              "        vertical-align: top;\n",
              "    }\n",
              "\n",
              "    .dataframe thead th {\n",
              "        text-align: right;\n",
              "    }\n",
              "</style>\n",
              "<table border=\"1\" class=\"dataframe\">\n",
              "  <thead>\n",
              "    <tr style=\"text-align: right;\">\n",
              "      <th></th>\n",
              "      <th>count</th>\n",
              "    </tr>\n",
              "    <tr>\n",
              "      <th>children</th>\n",
              "      <th></th>\n",
              "    </tr>\n",
              "  </thead>\n",
              "  <tbody>\n",
              "    <tr>\n",
              "      <th>0</th>\n",
              "      <td>574</td>\n",
              "    </tr>\n",
              "    <tr>\n",
              "      <th>1</th>\n",
              "      <td>324</td>\n",
              "    </tr>\n",
              "    <tr>\n",
              "      <th>2</th>\n",
              "      <td>240</td>\n",
              "    </tr>\n",
              "    <tr>\n",
              "      <th>3</th>\n",
              "      <td>157</td>\n",
              "    </tr>\n",
              "    <tr>\n",
              "      <th>4</th>\n",
              "      <td>25</td>\n",
              "    </tr>\n",
              "    <tr>\n",
              "      <th>5</th>\n",
              "      <td>18</td>\n",
              "    </tr>\n",
              "  </tbody>\n",
              "</table>\n",
              "</div><br><label><b>dtype:</b> int64</label>"
            ]
          },
          "metadata": {},
          "execution_count": 181
        }
      ]
    },
    {
      "cell_type": "code",
      "source": [
        "#Smoker column\n",
        "plt.figure(figsize = (6,6))\n",
        "sns.countplot(x='smoker', data= insurance_dataset)\n",
        "plt.title('smoker')\n",
        "plt.show()"
      ],
      "metadata": {
        "colab": {
          "base_uri": "https://localhost:8080/",
          "height": 573
        },
        "id": "lyDePZCVB_3q",
        "outputId": "7385f5c0-b564-4c25-b6d9-732060904c35"
      },
      "execution_count": 182,
      "outputs": [
        {
          "output_type": "display_data",
          "data": {
            "text/plain": [
              "<Figure size 600x600 with 1 Axes>"
            ],
            "image/png": "[encoded data removed]"
          },
          "metadata": {}
        }
      ]
    },
    {
      "cell_type": "code",
      "source": [
        "insurance_dataset['smoker'].value_counts()"
      ],
      "metadata": {
        "colab": {
          "base_uri": "https://localhost:8080/",
          "height": 178
        },
        "id": "XJQJRha5Cl96",
        "outputId": "d968fa0c-22b9-4a03-cda2-1e9946c8085e"
      },
      "execution_count": 183,
      "outputs": [
        {
          "output_type": "execute_result",
          "data": {
            "text/plain": [
              "smoker\n",
              "no     1064\n",
              "yes     274\n",
              "Name: count, dtype: int64"
            ],
            "text/html": [
              "<div>\n",
              "<style scoped>\n",
              "    .dataframe tbody tr th:only-of-type {\n",
              "        vertical-align: middle;\n",
              "    }\n",
              "\n",
              "    .dataframe tbody tr th {\n",
              "        vertical-align: top;\n",
              "    }\n",
              "\n",
              "    .dataframe thead th {\n",
              "        text-align: right;\n",
              "    }\n",
              "</style>\n",
              "<table border=\"1\" class=\"dataframe\">\n",
              "  <thead>\n",
              "    <tr style=\"text-align: right;\">\n",
              "      <th></th>\n",
              "      <th>count</th>\n",
              "    </tr>\n",
              "    <tr>\n",
              "      <th>smoker</th>\n",
              "      <th></th>\n",
              "    </tr>\n",
              "  </thead>\n",
              "  <tbody>\n",
              "    <tr>\n",
              "      <th>no</th>\n",
              "      <td>1064</td>\n",
              "    </tr>\n",
              "    <tr>\n",
              "      <th>yes</th>\n",
              "      <td>274</td>\n",
              "    </tr>\n",
              "  </tbody>\n",
              "</table>\n",
              "</div><br><label><b>dtype:</b> int64</label>"
            ]
          },
          "metadata": {},
          "execution_count": 183
        }
      ]
    },
    {
      "cell_type": "code",
      "source": [
        "plt.figure(figsize = (6,6))\n",
        "sns.countplot(x='region', data= insurance_dataset)\n",
        "plt.title('region')\n",
        "plt.show()"
      ],
      "metadata": {
        "colab": {
          "base_uri": "https://localhost:8080/",
          "height": 573
        },
        "id": "Sj9bXXHcC6YK",
        "outputId": "c8c5411b-ec1c-400d-ee72-f0e55dfdbbdd"
      },
      "execution_count": 184,
      "outputs": [
        {
          "output_type": "display_data",
          "data": {
            "text/plain": [
              "<Figure size 600x600 with 1 Axes>"
            ],
            "image/png": "[encoded data removed]"
          },
          "metadata": {}
        }
      ]
    },
    {
      "cell_type": "code",
      "source": [
        "# Charge distribution\n",
        "plt.figure(figsize=(6,6))\n",
        "sns.displot(insurance_dataset['charges'])\n",
        "plt.title('Charge Distribution')\n",
        "plt.show()"
      ],
      "metadata": {
        "colab": {
          "base_uri": "https://localhost:8080/",
          "height": 540
        },
        "id": "I7UR2Gj6DAdE",
        "outputId": "7fe71a6a-5fd8-4b64-c4bb-fdb2fd456ca2"
      },
      "execution_count": 185,
      "outputs": [
        {
          "output_type": "display_data",
          "data": {
            "text/plain": [
              "<Figure size 600x600 with 0 Axes>"
            ]
          },
          "metadata": {}
        },
        {
          "output_type": "display_data",
          "data": {
            "text/plain": [
              "<Figure size 500x500 with 1 Axes>"
            ],
            "image/png": "[encoded data removed]"
          },
          "metadata": {}
        }
      ]
    },
    {
      "cell_type": "markdown",
      "source": [
        "Data Pre-processing"
      ],
      "metadata": {
        "id": "LukN7kN1DkqO"
      }
    },
    {
      "cell_type": "markdown",
      "source": [
        "Encoding the categorical features"
      ],
      "metadata": {
        "id": "xnWSb0j6DoyP"
      }
    },
    {
      "cell_type": "code",
      "source": [
        "# encoding sex column\n",
        "insurance_dataset.replace({'sex':{'male':0, 'female' : 1}}, inplace = True)\n",
        "\n",
        "# encoding 'Smoker' column\n",
        "insurance_dataset.replace({'smoker' : {'yes': 0, 'no': 1}}, inplace = True)\n",
        "\n",
        "#encoding 'Region' column\n",
        "insurance_dataset.replace({'region' :{'southeast':0, 'southwest':1, 'northeast':2, 'northwest' : 3}}, inplace = True)"
      ],
      "metadata": {
        "colab": {
          "base_uri": "https://localhost:8080/"
        },
        "id": "qhzDRj7-DWzT",
        "outputId": "bc504b84-abca-4e38-c45d-334bddbb717a"
      },
      "execution_count": 186,
      "outputs": [
        {
          "output_type": "stream",
          "name": "stderr",
          "text": [
            "<ipython-input-186-96f1f465a6dd>:2: FutureWarning: Downcasting behavior in `replace` is deprecated and will be removed in a future version. To retain the old behavior, explicitly call `result.infer_objects(copy=False)`. To opt-in to the future behavior, set `pd.set_option('future.no_silent_downcasting', True)`\n",
            "  insurance_dataset.replace({'sex':{'male':0, 'female' : 1}}, inplace = True)\n",
            "<ipython-input-186-96f1f465a6dd>:5: FutureWarning: Downcasting behavior in `replace` is deprecated and will be removed in a future version. To retain the old behavior, explicitly call `result.infer_objects(copy=False)`. To opt-in to the future behavior, set `pd.set_option('future.no_silent_downcasting', True)`\n",
            "  insurance_dataset.replace({'smoker' : {'yes': 0, 'no': 1}}, inplace = True)\n",
            "<ipython-input-186-96f1f465a6dd>:8: FutureWarning: Downcasting behavior in `replace` is deprecated and will be removed in a future version. To retain the old behavior, explicitly call `result.infer_objects(copy=False)`. To opt-in to the future behavior, set `pd.set_option('future.no_silent_downcasting', True)`\n",
            "  insurance_dataset.replace({'region' :{'southeast':0, 'southwest':1, 'northeast':2, 'northwest' : 3}}, inplace = True)\n"
          ]
        }
      ]
    },
    {
      "cell_type": "markdown",
      "source": [
        "Splitting the features and Target"
      ],
      "metadata": {
        "id": "3kahkXKfE_KD"
      }
    },
    {
      "cell_type": "code",
      "source": [
        "x = insurance_dataset.drop(columns='charges', axis = 1)\n",
        "y = insurance_dataset['charges']"
      ],
      "metadata": {
        "id": "8lII5ZAiE21i"
      },
      "execution_count": 187,
      "outputs": []
    },
    {
      "cell_type": "code",
      "source": [
        "print(x)"
      ],
      "metadata": {
        "colab": {
          "base_uri": "https://localhost:8080/"
        },
        "id": "A8XsouE-FTeP",
        "outputId": "74784a43-d7cb-498f-d24c-dd48b908e07e"
      },
      "execution_count": 188,
      "outputs": [
        {
          "output_type": "stream",
          "name": "stdout",
          "text": [
            "      age  sex     bmi  children  smoker  region\n",
            "0      19    1  27.900         0       0       1\n",
            "1      18    0  33.770         1       1       0\n",
            "2      28    0  33.000         3       1       0\n",
            "3      33    0  22.705         0       1       3\n",
            "4      32    0  28.880         0       1       3\n",
            "...   ...  ...     ...       ...     ...     ...\n",
            "1333   50    0  30.970         3       1       3\n",
            "1334   18    1  31.920         0       1       2\n",
            "1335   18    1  36.850         0       1       0\n",
            "1336   21    1  25.800         0       1       1\n",
            "1337   61    1  29.070         0       0       3\n",
            "\n",
            "[1338 rows x 6 columns]\n"
          ]
        }
      ]
    },
    {
      "cell_type": "code",
      "source": [
        "print(y)"
      ],
      "metadata": {
        "colab": {
          "base_uri": "https://localhost:8080/"
        },
        "id": "7UqD-g-vFYF-",
        "outputId": "26f9d740-9093-4182-aede-2ada6eb9a402"
      },
      "execution_count": 189,
      "outputs": [
        {
          "output_type": "stream",
          "name": "stdout",
          "text": [
            "0       16884.92400\n",
            "1        1725.55230\n",
            "2        4449.46200\n",
            "3       21984.47061\n",
            "4        3866.85520\n",
            "           ...     \n",
            "1333    10600.54830\n",
            "1334     2205.98080\n",
            "1335     1629.83350\n",
            "1336     2007.94500\n",
            "1337    29141.36030\n",
            "Name: charges, Length: 1338, dtype: float64\n"
          ]
        }
      ]
    },
    {
      "cell_type": "markdown",
      "source": [
        "Splitting the data into Training data & Testing data"
      ],
      "metadata": {
        "id": "_V1X6NclFuVx"
      }
    },
    {
      "cell_type": "code",
      "source": [
        "x_train, x_test, y_train, y_test = train_test_split(x, y, test_size = 0.2, random_state= 2)"
      ],
      "metadata": {
        "id": "MdETZyctFsVV"
      },
      "execution_count": 190,
      "outputs": []
    },
    {
      "cell_type": "code",
      "source": [
        "print(x.shape, x_train.shape, x_test.shape)"
      ],
      "metadata": {
        "colab": {
          "base_uri": "https://localhost:8080/"
        },
        "id": "4UwGd1oBGUKL",
        "outputId": "eeb8b776-f28f-411d-d115-5d92954b37ff"
      },
      "execution_count": 191,
      "outputs": [
        {
          "output_type": "stream",
          "name": "stdout",
          "text": [
            "(1338, 6) (1070, 6) (268, 6)\n"
          ]
        }
      ]
    },
    {
      "cell_type": "markdown",
      "source": [
        "Model Training"
      ],
      "metadata": {
        "id": "Hknzg5YHGcXf"
      }
    },
    {
      "cell_type": "markdown",
      "source": [
        "Linear Regression"
      ],
      "metadata": {
        "id": "IaSAATIJGfUH"
      }
    },
    {
      "cell_type": "markdown",
      "source": [
        "![Screenshot 2024-10-22 081358.png](data:image/png;base64,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)"
      ],
      "metadata": {
        "id": "XvfHvulwHFGl"
      }
    },
    {
      "cell_type": "code",
      "source": [
        "# Loading the Linear Regression model\n",
        "regressor = LinearRegression()"
      ],
      "metadata": {
        "id": "htsYuBWcGa-G"
      },
      "execution_count": 192,
      "outputs": []
    },
    {
      "cell_type": "code",
      "source": [
        "regressor.fit(x_train, y_train)"
      ],
      "metadata": {
        "colab": {
          "base_uri": "https://localhost:8080/",
          "height": 80
        },
        "id": "77GoN3zCHzQN",
        "outputId": "c61e27b3-6558-40c7-e712-473620b4fa4f"
      },
      "execution_count": 193,
      "outputs": [
        {
          "output_type": "execute_result",
          "data": {
            "text/plain": [
              "LinearRegression()"
            ],
            "text/html": [
              "<style>#sk-container-id-6 {\n",
              "  /* Definition of color scheme common for light and dark mode */\n",
              "  --sklearn-color-text: black;\n",
              "  --sklearn-color-line: gray;\n",
              "  /* Definition of color scheme for unfitted estimators */\n",
              "  --sklearn-color-unfitted-level-0: #fff5e6;\n",
              "  --sklearn-color-unfitted-level-1: #f6e4d2;\n",
              "  --sklearn-color-unfitted-level-2: #ffe0b3;\n",
              "  --sklearn-color-unfitted-level-3: chocolate;\n",
              "  /* Definition of color scheme for fitted estimators */\n",
              "  --sklearn-color-fitted-level-0: #f0f8ff;\n",
              "  --sklearn-color-fitted-level-1: #d4ebff;\n",
              "  --sklearn-color-fitted-level-2: #b3dbfd;\n",
              "  --sklearn-color-fitted-level-3: cornflowerblue;\n",
              "\n",
              "  /* Specific color for light theme */\n",
              "  --sklearn-color-text-on-default-background: var(--sg-text-color, var(--theme-code-foreground, var(--jp-content-font-color1, black)));\n",
              "  --sklearn-color-background: var(--sg-background-color, var(--theme-background, var(--jp-layout-color0, white)));\n",
              "  --sklearn-color-border-box: var(--sg-text-color, var(--theme-code-foreground, var(--jp-content-font-color1, black)));\n",
              "  --sklearn-color-icon: #696969;\n",
              "\n",
              "  @media (prefers-color-scheme: dark) {\n",
              "    /* Redefinition of color scheme for dark theme */\n",
              "    --sklearn-color-text-on-default-background: var(--sg-text-color, var(--theme-code-foreground, var(--jp-content-font-color1, white)));\n",
              "    --sklearn-color-background: var(--sg-background-color, var(--theme-background, var(--jp-layout-color0, #111)));\n",
              "    --sklearn-color-border-box: var(--sg-text-color, var(--theme-code-foreground, var(--jp-content-font-color1, white)));\n",
              "    --sklearn-color-icon: #878787;\n",
              "  }\n",
              "}\n",
              "\n",
              "#sk-container-id-6 {\n",
              "  color: var(--sklearn-color-text);\n",
              "}\n",
              "\n",
              "#sk-container-id-6 pre {\n",
              "  padding: 0;\n",
              "}\n",
              "\n",
              "#sk-container-id-6 input.sk-hidden--visually {\n",
              "  border: 0;\n",
              "  clip: rect(1px 1px 1px 1px);\n",
              "  clip: rect(1px, 1px, 1px, 1px);\n",
              "  height: 1px;\n",
              "  margin: -1px;\n",
              "  overflow: hidden;\n",
              "  padding: 0;\n",
              "  position: absolute;\n",
              "  width: 1px;\n",
              "}\n",
              "\n",
              "#sk-container-id-6 div.sk-dashed-wrapped {\n",
              "  border: 1px dashed var(--sklearn-color-line);\n",
              "  margin: 0 0.4em 0.5em 0.4em;\n",
              "  box-sizing: border-box;\n",
              "  padding-bottom: 0.4em;\n",
              "  background-color: var(--sklearn-color-background);\n",
              "}\n",
              "\n",
              "#sk-container-id-6 div.sk-container {\n",
              "  /* jupyter's `normalize.less` sets `[hidden] { display: none; }`\n",
              "     but bootstrap.min.css set `[hidden] { display: none !important; }`\n",
              "     so we also need the `!important` here to be able to override the\n",
              "     default hidden behavior on the sphinx rendered scikit-learn.org.\n",
              "     See: https://github.com/scikit-learn/scikit-learn/issues/21755 */\n",
              "  display: inline-block !important;\n",
              "  position: relative;\n",
              "}\n",
              "\n",
              "#sk-container-id-6 div.sk-text-repr-fallback {\n",
              "  display: none;\n",
              "}\n",
              "\n",
              "div.sk-parallel-item,\n",
              "div.sk-serial,\n",
              "div.sk-item {\n",
              "  /* draw centered vertical line to link estimators */\n",
              "  background-image: linear-gradient(var(--sklearn-color-text-on-default-background), var(--sklearn-color-text-on-default-background));\n",
              "  background-size: 2px 100%;\n",
              "  background-repeat: no-repeat;\n",
              "  background-position: center center;\n",
              "}\n",
              "\n",
              "/* Parallel-specific style estimator block */\n",
              "\n",
              "#sk-container-id-6 div.sk-parallel-item::after {\n",
              "  content: \"\";\n",
              "  width: 100%;\n",
              "  border-bottom: 2px solid var(--sklearn-color-text-on-default-background);\n",
              "  flex-grow: 1;\n",
              "}\n",
              "\n",
              "#sk-container-id-6 div.sk-parallel {\n",
              "  display: flex;\n",
              "  align-items: stretch;\n",
              "  justify-content: center;\n",
              "  background-color: var(--sklearn-color-background);\n",
              "  position: relative;\n",
              "}\n",
              "\n",
              "#sk-container-id-6 div.sk-parallel-item {\n",
              "  display: flex;\n",
              "  flex-direction: column;\n",
              "}\n",
              "\n",
              "#sk-container-id-6 div.sk-parallel-item:first-child::after {\n",
              "  align-self: flex-end;\n",
              "  width: 50%;\n",
              "}\n",
              "\n",
              "#sk-container-id-6 div.sk-parallel-item:last-child::after {\n",
              "  align-self: flex-start;\n",
              "  width: 50%;\n",
              "}\n",
              "\n",
              "#sk-container-id-6 div.sk-parallel-item:only-child::after {\n",
              "  width: 0;\n",
              "}\n",
              "\n",
              "/* Serial-specific style estimator block */\n",
              "\n",
              "#sk-container-id-6 div.sk-serial {\n",
              "  display: flex;\n",
              "  flex-direction: column;\n",
              "  align-items: center;\n",
              "  background-color: var(--sklearn-color-background);\n",
              "  padding-right: 1em;\n",
              "  padding-left: 1em;\n",
              "}\n",
              "\n",
              "\n",
              "/* Toggleable style: style used for estimator/Pipeline/ColumnTransformer box that is\n",
              "clickable and can be expanded/collapsed.\n",
              "- Pipeline and ColumnTransformer use this feature and define the default style\n",
              "- Estimators will overwrite some part of the style using the `sk-estimator` class\n",
              "*/\n",
              "\n",
              "/* Pipeline and ColumnTransformer style (default) */\n",
              "\n",
              "#sk-container-id-6 div.sk-toggleable {\n",
              "  /* Default theme specific background. It is overwritten whether we have a\n",
              "  specific estimator or a Pipeline/ColumnTransformer */\n",
              "  background-color: var(--sklearn-color-background);\n",
              "}\n",
              "\n",
              "/* Toggleable label */\n",
              "#sk-container-id-6 label.sk-toggleable__label {\n",
              "  cursor: pointer;\n",
              "  display: block;\n",
              "  width: 100%;\n",
              "  margin-bottom: 0;\n",
              "  padding: 0.5em;\n",
              "  box-sizing: border-box;\n",
              "  text-align: center;\n",
              "}\n",
              "\n",
              "#sk-container-id-6 label.sk-toggleable__label-arrow:before {\n",
              "  /* Arrow on the left of the label */\n",
              "  content: \"▸\";\n",
              "  float: left;\n",
              "  margin-right: 0.25em;\n",
              "  color: var(--sklearn-color-icon);\n",
              "}\n",
              "\n",
              "#sk-container-id-6 label.sk-toggleable__label-arrow:hover:before {\n",
              "  color: var(--sklearn-color-text);\n",
              "}\n",
              "\n",
              "/* Toggleable content - dropdown */\n",
              "\n",
              "#sk-container-id-6 div.sk-toggleable__content {\n",
              "  max-height: 0;\n",
              "  max-width: 0;\n",
              "  overflow: hidden;\n",
              "  text-align: left;\n",
              "  /* unfitted */\n",
              "  background-color: var(--sklearn-color-unfitted-level-0);\n",
              "}\n",
              "\n",
              "#sk-container-id-6 div.sk-toggleable__content.fitted {\n",
              "  /* fitted */\n",
              "  background-color: var(--sklearn-color-fitted-level-0);\n",
              "}\n",
              "\n",
              "#sk-container-id-6 div.sk-toggleable__content pre {\n",
              "  margin: 0.2em;\n",
              "  border-radius: 0.25em;\n",
              "  color: var(--sklearn-color-text);\n",
              "  /* unfitted */\n",
              "  background-color: var(--sklearn-color-unfitted-level-0);\n",
              "}\n",
              "\n",
              "#sk-container-id-6 div.sk-toggleable__content.fitted pre {\n",
              "  /* unfitted */\n",
              "  background-color: var(--sklearn-color-fitted-level-0);\n",
              "}\n",
              "\n",
              "#sk-container-id-6 input.sk-toggleable__control:checked~div.sk-toggleable__content {\n",
              "  /* Expand drop-down */\n",
              "  max-height: 200px;\n",
              "  max-width: 100%;\n",
              "  overflow: auto;\n",
              "}\n",
              "\n",
              "#sk-container-id-6 input.sk-toggleable__control:checked~label.sk-toggleable__label-arrow:before {\n",
              "  content: \"▾\";\n",
              "}\n",
              "\n",
              "/* Pipeline/ColumnTransformer-specific style */\n",
              "\n",
              "#sk-container-id-6 div.sk-label input.sk-toggleable__control:checked~label.sk-toggleable__label {\n",
              "  color: var(--sklearn-color-text);\n",
              "  background-color: var(--sklearn-color-unfitted-level-2);\n",
              "}\n",
              "\n",
              "#sk-container-id-6 div.sk-label.fitted input.sk-toggleable__control:checked~label.sk-toggleable__label {\n",
              "  background-color: var(--sklearn-color-fitted-level-2);\n",
              "}\n",
              "\n",
              "/* Estimator-specific style */\n",
              "\n",
              "/* Colorize estimator box */\n",
              "#sk-container-id-6 div.sk-estimator input.sk-toggleable__control:checked~label.sk-toggleable__label {\n",
              "  /* unfitted */\n",
              "  background-color: var(--sklearn-color-unfitted-level-2);\n",
              "}\n",
              "\n",
              "#sk-container-id-6 div.sk-estimator.fitted input.sk-toggleable__control:checked~label.sk-toggleable__label {\n",
              "  /* fitted */\n",
              "  background-color: var(--sklearn-color-fitted-level-2);\n",
              "}\n",
              "\n",
              "#sk-container-id-6 div.sk-label label.sk-toggleable__label,\n",
              "#sk-container-id-6 div.sk-label label {\n",
              "  /* The background is the default theme color */\n",
              "  color: var(--sklearn-color-text-on-default-background);\n",
              "}\n",
              "\n",
              "/* On hover, darken the color of the background */\n",
              "#sk-container-id-6 div.sk-label:hover label.sk-toggleable__label {\n",
              "  color: var(--sklearn-color-text);\n",
              "  background-color: var(--sklearn-color-unfitted-level-2);\n",
              "}\n",
              "\n",
              "/* Label box, darken color on hover, fitted */\n",
              "#sk-container-id-6 div.sk-label.fitted:hover label.sk-toggleable__label.fitted {\n",
              "  color: var(--sklearn-color-text);\n",
              "  background-color: var(--sklearn-color-fitted-level-2);\n",
              "}\n",
              "\n",
              "/* Estimator label */\n",
              "\n",
              "#sk-container-id-6 div.sk-label label {\n",
              "  font-family: monospace;\n",
              "  font-weight: bold;\n",
              "  display: inline-block;\n",
              "  line-height: 1.2em;\n",
              "}\n",
              "\n",
              "#sk-container-id-6 div.sk-label-container {\n",
              "  text-align: center;\n",
              "}\n",
              "\n",
              "/* Estimator-specific */\n",
              "#sk-container-id-6 div.sk-estimator {\n",
              "  font-family: monospace;\n",
              "  border: 1px dotted var(--sklearn-color-border-box);\n",
              "  border-radius: 0.25em;\n",
              "  box-sizing: border-box;\n",
              "  margin-bottom: 0.5em;\n",
              "  /* unfitted */\n",
              "  background-color: var(--sklearn-color-unfitted-level-0);\n",
              "}\n",
              "\n",
              "#sk-container-id-6 div.sk-estimator.fitted {\n",
              "  /* fitted */\n",
              "  background-color: var(--sklearn-color-fitted-level-0);\n",
              "}\n",
              "\n",
              "/* on hover */\n",
              "#sk-container-id-6 div.sk-estimator:hover {\n",
              "  /* unfitted */\n",
              "  background-color: var(--sklearn-color-unfitted-level-2);\n",
              "}\n",
              "\n",
              "#sk-container-id-6 div.sk-estimator.fitted:hover {\n",
              "  /* fitted */\n",
              "  background-color: var(--sklearn-color-fitted-level-2);\n",
              "}\n",
              "\n",
              "/* Specification for estimator info (e.g. \"i\" and \"?\") */\n",
              "\n",
              "/* Common style for \"i\" and \"?\" */\n",
              "\n",
              ".sk-estimator-doc-link,\n",
              "a:link.sk-estimator-doc-link,\n",
              "a:visited.sk-estimator-doc-link {\n",
              "  float: right;\n",
              "  font-size: smaller;\n",
              "  line-height: 1em;\n",
              "  font-family: monospace;\n",
              "  background-color: var(--sklearn-color-background);\n",
              "  border-radius: 1em;\n",
              "  height: 1em;\n",
              "  width: 1em;\n",
              "  text-decoration: none !important;\n",
              "  margin-left: 1ex;\n",
              "  /* unfitted */\n",
              "  border: var(--sklearn-color-unfitted-level-1) 1pt solid;\n",
              "  color: var(--sklearn-color-unfitted-level-1);\n",
              "}\n",
              "\n",
              ".sk-estimator-doc-link.fitted,\n",
              "a:link.sk-estimator-doc-link.fitted,\n",
              "a:visited.sk-estimator-doc-link.fitted {\n",
              "  /* fitted */\n",
              "  border: var(--sklearn-color-fitted-level-1) 1pt solid;\n",
              "  color: var(--sklearn-color-fitted-level-1);\n",
              "}\n",
              "\n",
              "/* On hover */\n",
              "div.sk-estimator:hover .sk-estimator-doc-link:hover,\n",
              ".sk-estimator-doc-link:hover,\n",
              "div.sk-label-container:hover .sk-estimator-doc-link:hover,\n",
              ".sk-estimator-doc-link:hover {\n",
              "  /* unfitted */\n",
              "  background-color: var(--sklearn-color-unfitted-level-3);\n",
              "  color: var(--sklearn-color-background);\n",
              "  text-decoration: none;\n",
              "}\n",
              "\n",
              "div.sk-estimator.fitted:hover .sk-estimator-doc-link.fitted:hover,\n",
              ".sk-estimator-doc-link.fitted:hover,\n",
              "div.sk-label-container:hover .sk-estimator-doc-link.fitted:hover,\n",
              ".sk-estimator-doc-link.fitted:hover {\n",
              "  /* fitted */\n",
              "  background-color: var(--sklearn-color-fitted-level-3);\n",
              "  color: var(--sklearn-color-background);\n",
              "  text-decoration: none;\n",
              "}\n",
              "\n",
              "/* Span, style for the box shown on hovering the info icon */\n",
              ".sk-estimator-doc-link span {\n",
              "  display: none;\n",
              "  z-index: 9999;\n",
              "  position: relative;\n",
              "  font-weight: normal;\n",
              "  right: .2ex;\n",
              "  padding: .5ex;\n",
              "  margin: .5ex;\n",
              "  width: min-content;\n",
              "  min-width: 20ex;\n",
              "  max-width: 50ex;\n",
              "  color: var(--sklearn-color-text);\n",
              "  box-shadow: 2pt 2pt 4pt #999;\n",
              "  /* unfitted */\n",
              "  background: var(--sklearn-color-unfitted-level-0);\n",
              "  border: .5pt solid var(--sklearn-color-unfitted-level-3);\n",
              "}\n",
              "\n",
              ".sk-estimator-doc-link.fitted span {\n",
              "  /* fitted */\n",
              "  background: var(--sklearn-color-fitted-level-0);\n",
              "  border: var(--sklearn-color-fitted-level-3);\n",
              "}\n",
              "\n",
              ".sk-estimator-doc-link:hover span {\n",
              "  display: block;\n",
              "}\n",
              "\n",
              "/* \"?\"-specific style due to the `<a>` HTML tag */\n",
              "\n",
              "#sk-container-id-6 a.estimator_doc_link {\n",
              "  float: right;\n",
              "  font-size: 1rem;\n",
              "  line-height: 1em;\n",
              "  font-family: monospace;\n",
              "  background-color: var(--sklearn-color-background);\n",
              "  border-radius: 1rem;\n",
              "  height: 1rem;\n",
              "  width: 1rem;\n",
              "  text-decoration: none;\n",
              "  /* unfitted */\n",
              "  color: var(--sklearn-color-unfitted-level-1);\n",
              "  border: var(--sklearn-color-unfitted-level-1) 1pt solid;\n",
              "}\n",
              "\n",
              "#sk-container-id-6 a.estimator_doc_link.fitted {\n",
              "  /* fitted */\n",
              "  border: var(--sklearn-color-fitted-level-1) 1pt solid;\n",
              "  color: var(--sklearn-color-fitted-level-1);\n",
              "}\n",
              "\n",
              "/* On hover */\n",
              "#sk-container-id-6 a.estimator_doc_link:hover {\n",
              "  /* unfitted */\n",
              "  background-color: var(--sklearn-color-unfitted-level-3);\n",
              "  color: var(--sklearn-color-background);\n",
              "  text-decoration: none;\n",
              "}\n",
              "\n",
              "#sk-container-id-6 a.estimator_doc_link.fitted:hover {\n",
              "  /* fitted */\n",
              "  background-color: var(--sklearn-color-fitted-level-3);\n",
              "}\n",
              "</style><div id=\"sk-container-id-6\" class=\"sk-top-container\"><div class=\"sk-text-repr-fallback\"><pre>LinearRegression()</pre><b>In a Jupyter environment, please rerun this cell to show the HTML representation or trust the notebook. <br />On GitHub, the HTML representation is unable to render, please try loading this page with nbviewer.org.</b></div><div class=\"sk-container\" hidden><div class=\"sk-item\"><div class=\"sk-estimator fitted sk-toggleable\"><input class=\"sk-toggleable__control sk-hidden--visually\" id=\"sk-estimator-id-6\" type=\"checkbox\" checked><label for=\"sk-estimator-id-6\" class=\"sk-toggleable__label fitted sk-toggleable__label-arrow fitted\">&nbsp;&nbsp;LinearRegression<a class=\"sk-estimator-doc-link fitted\" rel=\"noreferrer\" target=\"_blank\" href=\"https://scikit-learn.org/1.5/modules/generated/sklearn.linear_model.LinearRegression.html\">?<span>Documentation for LinearRegression</span></a><span class=\"sk-estimator-doc-link fitted\">i<span>Fitted</span></span></label><div class=\"sk-toggleable__content fitted\"><pre>LinearRegression()</pre></div> </div></div></div></div>"
            ]
          },
          "metadata": {},
          "execution_count": 193
        }
      ]
    },
    {
      "cell_type": "markdown",
      "source": [
        "Model Evaluation"
      ],
      "metadata": {
        "id": "y88PNOAtH8Kv"
      }
    },
    {
      "cell_type": "code",
      "source": [
        "# Prediction on training data\n",
        "training_data_prediction = regressor.predict(x_train)"
      ],
      "metadata": {
        "id": "5rCTOYYNH5Vb"
      },
      "execution_count": 194,
      "outputs": []
    },
    {
      "cell_type": "code",
      "source": [
        "# R squared value\n",
        "r2_train = metrics.r2_score(y_train, training_data_prediction)\n",
        "print('R squared value : ', r2_train)"
      ],
      "metadata": {
        "colab": {
          "base_uri": "https://localhost:8080/"
        },
        "id": "TaaazgG9ILIf",
        "outputId": "8c44b19d-27af-4daa-da32-609e3c1371f2"
      },
      "execution_count": 195,
      "outputs": [
        {
          "output_type": "stream",
          "name": "stdout",
          "text": [
            "R squared value :  0.751505643411174\n"
          ]
        }
      ]
    },
    {
      "cell_type": "code",
      "source": [
        "#prediction on test data\n",
        "test_data_prediction = regressor.predict(x_test)"
      ],
      "metadata": {
        "id": "_eiNYFXUIgVA"
      },
      "execution_count": 196,
      "outputs": []
    },
    {
      "cell_type": "code",
      "source": [
        "#R squared value\n",
        "r2_test = metrics.r2_score(y_test, test_data_prediction)\n",
        "print('R squared value : ', r2_test)"
      ],
      "metadata": {
        "colab": {
          "base_uri": "https://localhost:8080/"
        },
        "id": "lkLgTf8gJQEt",
        "outputId": "6217abba-7289-4228-8e16-0866f8b7b3e6"
      },
      "execution_count": 197,
      "outputs": [
        {
          "output_type": "stream",
          "name": "stdout",
          "text": [
            "R squared value :  0.7447273869684076\n"
          ]
        }
      ]
    },
    {
      "cell_type": "markdown",
      "source": [
        "Building a predictive model"
      ],
      "metadata": {
        "id": "ji9lhIZiJy5w"
      }
    },
    {
      "cell_type": "code",
      "source": [
        "feature_names = ['age', 'sex', 'bmi', 'children', 'smoker', 'region']\n",
        "\n",
        "input_data = (31, 1, 25.74, 0, 1, 0)\n",
        "\n",
        "input_data_as_numpy_array = np.asarray(input_data)\n",
        "input_data_reshaped = input_data_as_numpy_array.reshape(1, -1)\n",
        "input_data_df = pd.DataFrame(input_data_reshaped, columns=feature_names)\n",
        "prediction = regressor.predict(input_data_df)\n",
        "print('The insurance cost is USD', prediction[0])"
      ],
      "metadata": {
        "colab": {
          "base_uri": "https://localhost:8080/"
        },
        "id": "8hFclEelK8nc",
        "outputId": "a56f81a9-709a-4e3d-9d0c-009c157a9f48"
      },
      "execution_count": 199,
      "outputs": [
        {
          "output_type": "stream",
          "name": "stdout",
          "text": [
            "The insurance cost is USD 3760.080576496057\n"
          ]
        }
      ]
    },
    {
      "cell_type": "code",
      "source": [],
      "metadata": {
        "id": "EhCALeLfWU_7"
      },
      "execution_count": null,
      "outputs": []
    }
  ]
}